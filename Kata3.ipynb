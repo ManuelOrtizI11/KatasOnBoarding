{
 "cells": [
  {
   "cell_type": "markdown",
   "metadata": {},
   "source": [
    "# Kata 3: Módulo 3\n",
    "Ejemplos\n",
    "\n",
    "Tip de práctica 1: Intenta ejecutarlo en un notebook."
   ]
  },
  {
   "cell_type": "code",
   "execution_count": 2,
   "metadata": {},
   "outputs": [
    {
     "name": "stdout",
     "output_type": "stream",
     "text": [
      "97\n"
     ]
    }
   ],
   "source": [
    "a = 55\n",
    "b = 97\n",
    "# test expression / expresión de prueba\n",
    "if a < b:\n",
    "    # statement to be run / instrucción a ejecutar\n",
    "    print(b)"
   ]
  },
  {
   "cell_type": "markdown",
   "metadata": {},
   "source": [
    "Tip de práctica 2: Antes de ejecutarlo en un notebook, intenta deducir cuál será el resultado y compruébalo. El posible resultado es que se imprimira a, ya que 93 es mayor que 27, por lo tanto se cumple con la condición mayor o igual que."
   ]
  },
  {
   "cell_type": "code",
   "execution_count": 3,
   "metadata": {},
   "outputs": [
    {
     "name": "stdout",
     "output_type": "stream",
     "text": [
      "93\n"
     ]
    }
   ],
   "source": [
    "# Aplica el tip de práctica 1.\n",
    "a = 93\n",
    "b = 27\n",
    "if a >= b:\n",
    "    print(a)"
   ]
  },
  {
   "cell_type": "code",
   "execution_count": 1,
   "metadata": {},
   "outputs": [
    {
     "name": "stdout",
     "output_type": "stream",
     "text": [
      "44\n"
     ]
    }
   ],
   "source": [
    "a = 24\n",
    "b = 44\n",
    "if a <= 0:\n",
    "    print(a)\n",
    "print(b)"
   ]
  },
  {
   "cell_type": "code",
   "execution_count": 4,
   "metadata": {},
   "outputs": [
    {
     "name": "stdout",
     "output_type": "stream",
     "text": [
      "28\n"
     ]
    }
   ],
   "source": [
    "a = 27\n",
    "b = 28\n",
    "if a >= b:\n",
    "    print(a)\n",
    "else:\n",
    "    print(b)"
   ]
  },
  {
   "cell_type": "code",
   "execution_count": 10,
   "metadata": {},
   "outputs": [
    {
     "name": "stdout",
     "output_type": "stream",
     "text": [
      "a es mayor o igual que b\n"
     ]
    }
   ],
   "source": [
    "a = 5\n",
    "b = 5\n",
    "if a >= b:\n",
    "    print(\"a es mayor o igual que b\") \n",
    "elif a == b:\n",
    "    print(\"a es igual que b\")\n",
    "#Siguiendo este código no se ejecuta la sentencia elif debido a que la sentencia if siempre es true, si deseo ejecutar el elif\n",
    "# debo cambiar el mayor o igual solo por un mayor   "
   ]
  },
  {
   "cell_type": "code",
   "execution_count": 13,
   "metadata": {},
   "outputs": [
    {
     "name": "stdout",
     "output_type": "stream",
     "text": [
      "a es igual que b\n"
     ]
    }
   ],
   "source": [
    "a = 93\n",
    "b = 93\n",
    "if a > b:\n",
    "    print(\"a es mayor que b\")\n",
    "elif a < b:\n",
    "    print(\"a es menor que b\")\n",
    "else: \n",
    "    print (\"a es igual que b\")"
   ]
  },
  {
   "cell_type": "code",
   "execution_count": 16,
   "metadata": {},
   "outputs": [
    {
     "name": "stdout",
     "output_type": "stream",
     "text": [
      "a es mayor que b y menor que c\n"
     ]
    }
   ],
   "source": [
    "a = 27\n",
    "b = 16\n",
    "c = 25\n",
    "if a > b:\n",
    "    if b > c:\n",
    "        print (\"a es mayor que b y b es mayor que c\")\n",
    "    else: \n",
    "        print (\"a es mayor que b y menor que c\")\n",
    "elif a == b:\n",
    "    print (\"a es igual que b\")\n",
    "else:\n",
    "    print (\"a es menor que b\")"
   ]
  },
  {
   "cell_type": "code",
   "execution_count": 17,
   "metadata": {},
   "outputs": [
    {
     "name": "stdout",
     "output_type": "stream",
     "text": [
      "57\n"
     ]
    }
   ],
   "source": [
    "a = 23\n",
    "b = 34\n",
    "if a == 34 or b == 34:\n",
    "    print(a + b)"
   ]
  },
  {
   "cell_type": "code",
   "execution_count": 19,
   "metadata": {},
   "outputs": [
    {
     "name": "stdout",
     "output_type": "stream",
     "text": [
      "68\n"
     ]
    }
   ],
   "source": [
    "a = 34\n",
    "b = 34\n",
    "if a == 34 and b == 34:\n",
    "    print (a + b)"
   ]
  },
  {
   "cell_type": "markdown",
   "metadata": {},
   "source": [
    "# Ejercicio - Escribir declaraciones if, else, y elif"
   ]
  },
  {
   "cell_type": "code",
   "execution_count": 31,
   "metadata": {},
   "outputs": [
    {
     "name": "stdout",
     "output_type": "stream",
     "text": [
      "Es hora de correr, un asteroide nos va a demoler\n"
     ]
    }
   ],
   "source": [
    "a = 49\n",
    "\n",
    "if a > 25:\n",
    "    print(\"Es hora de correr, un asteroide nos va a demoler\")\n",
    "else:\n",
    "    print(\"La tierra no corre ningun peligro\")\n",
    "   "
   ]
  },
  {
   "cell_type": "code",
   "execution_count": 26,
   "metadata": {},
   "outputs": [
    {
     "name": "stdout",
     "output_type": "stream",
     "text": [
      "La tierra no corre ningun peligro\n"
     ]
    }
   ],
   "source": [
    "a = 19\n",
    "if a > 25:\n",
    "    print(\"Es hora de correr, un asteroide nos va a demoler\")\n",
    "elif a >= 20:\n",
    "    print(\"Ahora el asteroide se puede visualizar en el cielo\")\n",
    "else:\n",
    "    print(\"La tierra no corre ningun peligro\")\n",
    "         "
   ]
  },
  {
   "cell_type": "markdown",
   "metadata": {},
   "source": [
    "# Ejercicio: Uso de operadores and y or"
   ]
  },
  {
   "cell_type": "code",
   "execution_count": 30,
   "metadata": {},
   "outputs": [
    {
     "name": "stdout",
     "output_type": "stream",
     "text": [
      "Existe amenaza menor para la tierra, el asteroide se quemará gradualmente\n"
     ]
    }
   ],
   "source": [
    "a = 26\n",
    "t = 20\n",
    "if a > 25 and t <25:\n",
    "    print(\"Existe amenaza menor para la tierra, el asteroide se quemará gradualmente\")\n",
    "elif a >= 20:\n",
    "    if t > 25 or t < 100:\n",
    "        print(\"Existe amenaza mayor para la tierra, el asteroide ahora se puede visualizar en el cielo y puede causar muchos daños\")\n",
    "else:\n",
    "    print(\"La tierra no corre ningun peligro\")"
   ]
  }
 ],
 "metadata": {
  "interpreter": {
   "hash": "28ae9535041a36c47df5fb8dbecd0fb2483e60629e96af2c0ac93f0847cb627c"
  },
  "kernelspec": {
   "display_name": "Python 3.10.2 64-bit",
   "language": "python",
   "name": "python3"
  },
  "language_info": {
   "codemirror_mode": {
    "name": "ipython",
    "version": 3
   },
   "file_extension": ".py",
   "mimetype": "text/x-python",
   "name": "python",
   "nbconvert_exporter": "python",
   "pygments_lexer": "ipython3",
   "version": "3.10.2"
  },
  "orig_nbformat": 4
 },
 "nbformat": 4,
 "nbformat_minor": 2
}
